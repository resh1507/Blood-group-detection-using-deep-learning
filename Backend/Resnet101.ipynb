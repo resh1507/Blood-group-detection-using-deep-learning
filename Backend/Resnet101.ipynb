{
 "cells": [
  {
   "cell_type": "code",
   "execution_count": 2,
   "id": "e8d8bfc7-780a-4c0d-bae0-ebfa83b1049e",
   "metadata": {},
   "outputs": [
    {
     "name": "stdout",
     "output_type": "stream",
     "text": [
      "Requirement already satisfied: tqdm in c:\\users\\reshh\\anaconda3\\lib\\site-packages (4.66.5)Note: you may need to restart the kernel to use updated packages.\n",
      "\n",
      "Requirement already satisfied: colorama in c:\\users\\reshh\\anaconda3\\lib\\site-packages (from tqdm) (0.4.6)\n"
     ]
    }
   ],
   "source": [
    "pip install tqdm\n"
   ]
  },
  {
   "cell_type": "code",
   "execution_count": 4,
   "id": "6dc9bc03-7de1-42e4-9f94-cdb077768109",
   "metadata": {},
   "outputs": [
    {
     "name": "stderr",
     "output_type": "stream",
     "text": [
      "🔄 Extracting Features: 100%|██████████████████████████████████████████████████████████████████████████████████████████████████████████| 188/188 [1:52:46<00:00, 35.99s/it]\n"
     ]
    },
    {
     "name": "stdout",
     "output_type": "stream",
     "text": [
      "✅ Extracted features shape: (24000, 2048)\n"
     ]
    }
   ],
   "source": [
    "import numpy as np\n",
    "import tensorflow as tf\n",
    "from tensorflow.keras.applications import ResNet101\n",
    "from tensorflow.keras.applications.resnet import preprocess_input\n",
    "from tqdm import tqdm  # Add progress bar\n",
    "\n",
    "# Load grayscale fingerprint data\n",
    "X = np.load(\"X_fingerprint_segmented.npy\")\n",
    "y = np.load(\"y_fingerprint_segmented.npy\")\n",
    "\n",
    "# Load ResNet101 model\n",
    "resnet_model = ResNet101(weights='imagenet', include_top=False, pooling='avg', input_shape=(224, 224, 3))\n",
    "\n",
    "# Function to process in batches with progress\n",
    "def extract_features_in_batches(X, batch_size=128):\n",
    "    features = []\n",
    "    num_batches = len(X) // batch_size + int(len(X) % batch_size != 0)\n",
    "\n",
    "    for i in tqdm(range(0, len(X), batch_size), desc=\"🔄 Extracting Features\"):\n",
    "        batch = X[i:i+batch_size]\n",
    "        batch = np.repeat(batch[..., np.newaxis], 3, axis=-1)\n",
    "        batch_resized = tf.image.resize(batch, (224, 224)).numpy()\n",
    "        batch_preprocessed = preprocess_input(batch_resized)\n",
    "        batch_features = resnet_model.predict(batch_preprocessed, verbose=0)\n",
    "        features.append(batch_features)\n",
    "\n",
    "    return np.concatenate(features, axis=0)\n",
    "\n",
    "# Extract with visual feedback\n",
    "features = extract_features_in_batches(X, batch_size=128)\n",
    "print(f\"✅ Extracted features shape: {features.shape}\")\n"
   ]
  },
  {
   "cell_type": "code",
   "execution_count": 6,
   "id": "76cbc73c-1055-4992-887c-a3b61b25a295",
   "metadata": {},
   "outputs": [],
   "source": [
    "np.save(\"features.npy\", features)\n",
    "np.save(\"labels.npy\", y)\n"
   ]
  },
  {
   "cell_type": "code",
   "execution_count": null,
   "id": "0dab17f4-e419-43f2-ba00-56f9fb60c0f2",
   "metadata": {},
   "outputs": [],
   "source": []
  }
 ],
 "metadata": {
  "kernelspec": {
   "display_name": "Python [conda env:base] *",
   "language": "python",
   "name": "conda-base-py"
  },
  "language_info": {
   "codemirror_mode": {
    "name": "ipython",
    "version": 3
   },
   "file_extension": ".py",
   "mimetype": "text/x-python",
   "name": "python",
   "nbconvert_exporter": "python",
   "pygments_lexer": "ipython3",
   "version": "3.12.7"
  }
 },
 "nbformat": 4,
 "nbformat_minor": 5
}
