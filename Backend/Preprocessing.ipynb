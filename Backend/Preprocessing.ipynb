{
 "cells": [
  {
   "cell_type": "code",
   "execution_count": 1,
   "id": "6002a338-8c14-403a-8ccc-191702f2cdd0",
   "metadata": {},
   "outputs": [
    {
     "name": "stdout",
     "output_type": "stream",
     "text": [
      "Saved preprocessed data as .npy files\n"
     ]
    }
   ],
   "source": [
    "import os\n",
    "import numpy as np\n",
    "from PIL import Image\n",
    "\n",
    "dataset_path = r'C:\\Users\\reshh\\Downloads\\dataset\\dataset_blood_group'\n",
    "image_size = (128, 128)\n",
    "\n",
    "X = []\n",
    "y = []\n",
    "labels_dict = {}  # Map blood group to label index\n",
    "blood_groups = sorted([d for d in os.listdir(dataset_path) if os.path.isdir(os.path.join(dataset_path, d))])\n",
    "\n",
    "for label_index, bg in enumerate(blood_groups):\n",
    "    labels_dict[bg] = label_index\n",
    "    folder_path = os.path.join(dataset_path, bg)\n",
    "    for img_file in os.listdir(folder_path):\n",
    "        img_path = os.path.join(folder_path, img_file)\n",
    "        try:\n",
    "            img = Image.open(img_path).convert('L').resize(image_size)\n",
    "            X.append(np.array(img))\n",
    "            y.append(label_index)\n",
    "        except Exception as e:\n",
    "            print(f\"Error processing {img_path}: {e}\")\n",
    "\n",
    "X = np.array(X).reshape(-1, 128, 128, 1) / 255.0  # Normalize and reshape for CNN\n",
    "y = np.array(y)\n",
    "\n",
    "# Save preprocessed dataset\n",
    "np.save('X_fingerprint.npy', X)\n",
    "np.save('y_fingerprint.npy', y)\n",
    "print(\"Saved preprocessed data as .npy files\")\n"
   ]
  },
  {
   "cell_type": "code",
   "execution_count": null,
   "id": "fbf58655-3fbd-46af-9d56-a3fb83948371",
   "metadata": {},
   "outputs": [],
   "source": []
  }
 ],
 "metadata": {
  "kernelspec": {
   "display_name": "Python [conda env:base] *",
   "language": "python",
   "name": "conda-base-py"
  },
  "language_info": {
   "codemirror_mode": {
    "name": "ipython",
    "version": 3
   },
   "file_extension": ".py",
   "mimetype": "text/x-python",
   "name": "python",
   "nbconvert_exporter": "python",
   "pygments_lexer": "ipython3",
   "version": "3.12.7"
  }
 },
 "nbformat": 4,
 "nbformat_minor": 5
}
