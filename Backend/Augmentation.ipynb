{
 "cells": [
  {
   "cell_type": "code",
   "execution_count": 3,
   "id": "49680a2e-2a8f-482d-9a35-91e6717fefd1",
   "metadata": {},
   "outputs": [
    {
     "name": "stdout",
     "output_type": "stream",
     "text": [
      "Collecting imgaug\n",
      "  Downloading imgaug-0.4.0-py2.py3-none-any.whl.metadata (1.8 kB)\n",
      "Requirement already satisfied: opencv-python in c:\\users\\reshh\\anaconda3\\lib\\site-packages (4.11.0.86)\n",
      "Requirement already satisfied: numpy in c:\\users\\reshh\\anaconda3\\lib\\site-packages (1.26.4)\n",
      "Requirement already satisfied: pillow in c:\\users\\reshh\\anaconda3\\lib\\site-packages (10.4.0)\n",
      "Requirement already satisfied: matplotlib in c:\\users\\reshh\\anaconda3\\lib\\site-packages (3.9.2)\n",
      "Requirement already satisfied: six in c:\\users\\reshh\\anaconda3\\lib\\site-packages (from imgaug) (1.16.0)\n",
      "Requirement already satisfied: scipy in c:\\users\\reshh\\anaconda3\\lib\\site-packages (from imgaug) (1.13.1)\n",
      "Requirement already satisfied: scikit-image>=0.14.2 in c:\\users\\reshh\\anaconda3\\lib\\site-packages (from imgaug) (0.24.0)\n",
      "Requirement already satisfied: imageio in c:\\users\\reshh\\anaconda3\\lib\\site-packages (from imgaug) (2.33.1)\n",
      "Collecting Shapely (from imgaug)\n",
      "  Downloading shapely-2.1.0-cp312-cp312-win_amd64.whl.metadata (7.0 kB)\n",
      "Requirement already satisfied: contourpy>=1.0.1 in c:\\users\\reshh\\anaconda3\\lib\\site-packages (from matplotlib) (1.2.0)\n",
      "Requirement already satisfied: cycler>=0.10 in c:\\users\\reshh\\anaconda3\\lib\\site-packages (from matplotlib) (0.11.0)\n",
      "Requirement already satisfied: fonttools>=4.22.0 in c:\\users\\reshh\\anaconda3\\lib\\site-packages (from matplotlib) (4.51.0)\n",
      "Requirement already satisfied: kiwisolver>=1.3.1 in c:\\users\\reshh\\anaconda3\\lib\\site-packages (from matplotlib) (1.4.4)\n",
      "Requirement already satisfied: packaging>=20.0 in c:\\users\\reshh\\anaconda3\\lib\\site-packages (from matplotlib) (24.1)\n",
      "Requirement already satisfied: pyparsing>=2.3.1 in c:\\users\\reshh\\anaconda3\\lib\\site-packages (from matplotlib) (3.1.2)\n",
      "Requirement already satisfied: python-dateutil>=2.7 in c:\\users\\reshh\\anaconda3\\lib\\site-packages (from matplotlib) (2.9.0.post0)\n",
      "Requirement already satisfied: networkx>=2.8 in c:\\users\\reshh\\anaconda3\\lib\\site-packages (from scikit-image>=0.14.2->imgaug) (3.3)\n",
      "Requirement already satisfied: tifffile>=2022.8.12 in c:\\users\\reshh\\anaconda3\\lib\\site-packages (from scikit-image>=0.14.2->imgaug) (2023.4.12)\n",
      "Requirement already satisfied: lazy-loader>=0.4 in c:\\users\\reshh\\anaconda3\\lib\\site-packages (from scikit-image>=0.14.2->imgaug) (0.4)\n",
      "Downloading imgaug-0.4.0-py2.py3-none-any.whl (948 kB)\n",
      "   ---------------------------------------- 0.0/948.0 kB ? eta -:--:--\n",
      "   ----------- ---------------------------- 262.1/948.0 kB ? eta -:--:--\n",
      "   --------------------------------- ------ 786.4/948.0 kB 2.1 MB/s eta 0:00:01\n",
      "   ---------------------------------------- 948.0/948.0 kB 2.1 MB/s eta 0:00:00\n",
      "Downloading shapely-2.1.0-cp312-cp312-win_amd64.whl (1.7 MB)\n",
      "   ---------------------------------------- 0.0/1.7 MB ? eta -:--:--\n",
      "   ------------ --------------------------- 0.5/1.7 MB 3.4 MB/s eta 0:00:01\n",
      "   ------------------------------ --------- 1.3/1.7 MB 3.7 MB/s eta 0:00:01\n",
      "   ---------------------------------------- 1.7/1.7 MB 3.7 MB/s eta 0:00:00\n",
      "Installing collected packages: Shapely, imgaug\n",
      "Successfully installed Shapely-2.1.0 imgaug-0.4.0\n"
     ]
    }
   ],
   "source": [
    "!pip install imgaug opencv-python numpy pillow matplotlib\n"
   ]
  },
  {
   "cell_type": "code",
   "execution_count": 1,
   "id": "d5df9790-ede1-4332-9e02-80cd2b9a56fa",
   "metadata": {},
   "outputs": [
    {
     "name": "stdout",
     "output_type": "stream",
     "text": [
      "Augmenting 6000 images...\n",
      "Processed 0/6000 images...\n",
      "Processed 500/6000 images...\n",
      "Processed 1000/6000 images...\n",
      "Processed 1500/6000 images...\n",
      "Processed 2000/6000 images...\n",
      "Processed 2500/6000 images...\n",
      "Processed 3000/6000 images...\n",
      "Processed 3500/6000 images...\n",
      "Processed 4000/6000 images...\n",
      "Processed 4500/6000 images...\n",
      "Processed 5000/6000 images...\n",
      "Processed 5500/6000 images...\n",
      "✅ Augmented dataset saved! Total images: 24000\n"
     ]
    }
   ],
   "source": [
    "import os\n",
    "import numpy as np\n",
    "from PIL import Image\n",
    "import imgaug.augmenters as iaa\n",
    "\n",
    "# Load preprocessed fingerprint data\n",
    "X = np.load(\"X_fingerprint.npy\")  # Shape: (num_images, 128, 128, 1)\n",
    "y = np.load(\"y_fingerprint.npy\")  # Labels\n",
    "\n",
    "# Define augmentation pipeline\n",
    "augmenters = iaa.Sequential([\n",
    "    iaa.Fliplr(0.5),         # 50% chance to flip horizontally\n",
    "    iaa.Affine(rotate=(-15, 15)),  # Rotate between -15 to +15 degrees\n",
    "    iaa.AdditiveGaussianNoise(scale=(0, 0.05*255)),  # Add noise\n",
    "    iaa.Multiply((0.8, 1.2)),  # Random brightness\n",
    "])\n",
    "\n",
    "# Path to save augmented images\n",
    "augmented_dir = r\"D:\\augmented_data\"\n",
    "os.makedirs(augmented_dir, exist_ok=True)\n",
    "\n",
    "# Set augmentation factor\n",
    "AUGMENT_FACTOR = 4  \n",
    "\n",
    "aug_X, aug_y = [], []\n",
    "\n",
    "print(f\"Augmenting {len(X)} images...\")\n",
    "\n",
    "for i, img in enumerate(X):\n",
    "    img = (img * 255).astype(np.uint8)  # Convert back to uint8 for augmentation\n",
    "    \n",
    "    for j in range(AUGMENT_FACTOR):\n",
    "        aug_img = augmenters(image=img.squeeze())  # Apply augmentation\n",
    "        aug_img = np.expand_dims(aug_img, axis=-1)  # Keep shape (128,128,1)\n",
    "        \n",
    "        aug_X.append(aug_img)\n",
    "        aug_y.append(y[i])\n",
    "        \n",
    "        # Save the augmented image\n",
    "        aug_img_pil = Image.fromarray(aug_img.squeeze())\n",
    "        save_path = os.path.join(augmented_dir, f\"img_{i}_{j}.png\")\n",
    "        aug_img_pil.save(save_path)\n",
    "\n",
    "    if i % 500 == 0:\n",
    "        print(f\"Processed {i}/{len(X)} images...\")\n",
    "\n",
    "# Convert to NumPy arrays\n",
    "aug_X = np.array(aug_X) / 255.0  # Normalize again\n",
    "aug_y = np.array(aug_y)\n",
    "\n",
    "# Save augmented dataset\n",
    "np.save(\"X_fingerprint_aug.npy\", aug_X)\n",
    "np.save(\"y_fingerprint_aug.npy\", aug_y)\n",
    "\n",
    "print(f\"✅ Augmented dataset saved! Total images: {len(aug_X)}\")\n"
   ]
  },
  {
   "cell_type": "code",
   "execution_count": null,
   "id": "5e050fd6-2189-4bf3-9b73-746c19e2faaa",
   "metadata": {},
   "outputs": [],
   "source": []
  }
 ],
 "metadata": {
  "kernelspec": {
   "display_name": "Python [conda env:base] *",
   "language": "python",
   "name": "conda-base-py"
  },
  "language_info": {
   "codemirror_mode": {
    "name": "ipython",
    "version": 3
   },
   "file_extension": ".py",
   "mimetype": "text/x-python",
   "name": "python",
   "nbconvert_exporter": "python",
   "pygments_lexer": "ipython3",
   "version": "3.12.7"
  }
 },
 "nbformat": 4,
 "nbformat_minor": 5
}
